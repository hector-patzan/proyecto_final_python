{
 "cells": [
  {
   "cell_type": "markdown",
   "metadata": {},
   "source": [
    "## <b> Proyecto Final Python </b>"
   ]
  },
  {
   "cell_type": "markdown",
   "metadata": {},
   "source": [
    "**Scope del proyecto:** seleccionamos un dataset para el desarollo de Datawarehouse enfocado en aplicaciones móviles, esto nos permite contar con 2.3 millones de registros en 24 atributos, lo consideramos esto como una fuente de información robusta para la creación del modelo y sus dimensiones, derivado la cantidad de registros se opta por realizar el procesamiento  desde una base de datos local y no en una arquitectura de nube, se consume la información por medio de ODBC y posteriormente se realiza la limpieza y transformación de datos en Python, para lograr el traslado de este resultado a la arquitectura de AWS en el servicio de Redshift. \n"
   ]
  },
  {
   "cell_type": "markdown",
   "metadata": {},
   "source": [
    "**Objetivo:** evaluar el desempeño del mercado de aplicaciones android y su desarrollo durante el paso de los años."
   ]
  },
  {
   "cell_type": "markdown",
   "metadata": {},
   "source": [
    "**Entregable:** se incluye el video de presentación, con los detalle técnicos del resultado final."
   ]
  },
  {
   "cell_type": "markdown",
   "metadata": {},
   "source": [
    "## <b> Modelo de datos</b>"
   ]
  },
  {
   "cell_type": "markdown",
   "metadata": {},
   "source": [
    "Se presenta el modelo de estrella con el siguiente diseño.\n",
    "<br> </br>\n",
    "<img src=\"Modelo.JPG\">"
   ]
  },
  {
   "cell_type": "markdown",
   "metadata": {},
   "source": [
    "## <b> Enlace de video </b>"
   ]
  },
  {
   "cell_type": "markdown",
   "metadata": {},
   "source": [
    "https://youtu.be/L7cdr6ULinU"
   ]
  }
 ],
 "metadata": {
  "language_info": {
   "name": "python"
  },
  "orig_nbformat": 4
 },
 "nbformat": 4,
 "nbformat_minor": 2
}
